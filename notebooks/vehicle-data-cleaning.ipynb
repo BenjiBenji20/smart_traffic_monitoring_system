{
 "cells": [
  {
   "cell_type": "markdown",
   "id": "fc168c1b",
   "metadata": {},
   "source": [
    "DATA CLEANING\n",
    " - REMOVING UNNECESSARY COLUMNS\n",
    " - RENAMING COLUMNS\n",
    " - CONVERTING DATE OBJECT INTO DATE TYPE\n",
    " - DROPING EXTRA RAWS\n",
    " - REMOVING NULL ROWS\n",
    " - EDITING DATE AND HOURS ENTRY "
   ]
  },
  {
   "cell_type": "code",
   "execution_count": null,
   "id": "91123c34",
   "metadata": {},
   "outputs": [],
   "source": [
    "import pandas as pd\n",
    "\n",
    "df = pd.read_csv('../data/raw/vehicle-volume-data-feed-prophet-model.csv')"
   ]
  },
  {
   "cell_type": "markdown",
   "id": "e2bcfaeb",
   "metadata": {},
   "source": [
    "Removing unnecessary columns\n",
    "Drop the columns that are unnecessary by prophet model\n",
    "\n",
    "Columns:\n",
    " - holiday               \n",
    " - temp                 \n",
    " - rain_1h              \n",
    " - snow_1h              \n",
    " - clouds_all             \n",
    " - weather_main          \n",
    " - weather_description"
   ]
  },
  {
   "cell_type": "code",
   "execution_count": null,
   "id": "2860e6c3",
   "metadata": {},
   "outputs": [],
   "source": [
    "df.drop(columns=['holiday', 'temp', 'rain_1h', 'snow_1h', 'clouds_all', 'weather_main', 'weather_description'], inplace=True)"
   ]
  },
  {
   "cell_type": "markdown",
   "id": "3a675159",
   "metadata": {},
   "source": [
    "Renaming columns\n",
    " - date_time -> ds (timestamp): This will serve as x-axis\n",
    " - traffic_volume -> y (vehicle_count): This will serve as y-axis"
   ]
  },
  {
   "cell_type": "code",
   "execution_count": null,
   "id": "562e3f13",
   "metadata": {},
   "outputs": [],
   "source": [
    "df.rename(columns={'date_time': 'ds', 'traffic_volume': 'y'}, inplace=True)"
   ]
  },
  {
   "cell_type": "markdown",
   "id": "3fc79d2c",
   "metadata": {},
   "source": [
    "Converting date object into date type\n",
    "\n",
    "Prophet model cannot handle date object so it must be converted into date type"
   ]
  },
  {
   "cell_type": "code",
   "execution_count": null,
   "id": "423ff0b7",
   "metadata": {},
   "outputs": [],
   "source": [
    "df['ds'] = pd.to_datetime(df['ds'], format=\"%d-%m-%Y %H:%M\")"
   ]
  },
  {
   "cell_type": "markdown",
   "id": "a32ebf5e",
   "metadata": {},
   "source": [
    "Data loading"
   ]
  },
  {
   "cell_type": "markdown",
   "id": "b9dba93d",
   "metadata": {},
   "source": [
    "Droping extra rows\n",
    "\n",
    "Prophet model can become highly accurate when making a Traffic Time Series Forecasting when fed with 1yr set of data.\n",
    "Our raw data, specifically in ds (date_time) includes hour, so 1 day data must have 24 rows and a year has 365 days.\n",
    "\n",
    "24*365 = 8760 rows (must be near to this number)\n",
    "but this raw data has 48k rows, so we need to drop 48203 - 8760 = 39443 rows\n",
    "\n",
    "11134 <-> 20344"
   ]
  },
  {
   "cell_type": "code",
   "execution_count": null,
   "id": "cb1cfc98",
   "metadata": {},
   "outputs": [],
   "source": [
    "# Drop rows from 0 to 11133 and 20344 to 48203\n",
    "df.drop(index=list(range(0, 11132)) + list(range(20344, 48204)), inplace=True)\n",
    "\n",
    "# reset index numbering\n",
    "df = df.reset_index(drop=True)"
   ]
  },
  {
   "cell_type": "markdown",
   "id": "ef31658e",
   "metadata": {},
   "source": [
    "Removing rows with null value"
   ]
  },
  {
   "cell_type": "code",
   "execution_count": null,
   "id": "4e496596",
   "metadata": {},
   "outputs": [],
   "source": [
    "(df[df.isnull().any(axis=1)]).count() # from any column, count the number of rows with null value"
   ]
  },
  {
   "cell_type": "code",
   "execution_count": null,
   "id": "0092e8f1",
   "metadata": {},
   "outputs": [],
   "source": [
    "df.head()\n",
    "#df.info()\n",
    "df.count() # 48k raws before processing"
   ]
  },
  {
   "cell_type": "markdown",
   "id": "6032ffc7",
   "metadata": {},
   "source": [
    "Check for duplicate entries"
   ]
  },
  {
   "cell_type": "code",
   "execution_count": null,
   "id": "74fae2cc",
   "metadata": {},
   "outputs": [],
   "source": [
    "df['ds'].unique() \n",
    "#8094 unique values but the total rows are 9212 which means\n",
    "#1118 rows are duplicated"
   ]
  },
  {
   "cell_type": "markdown",
   "id": "e6289d17",
   "metadata": {},
   "source": [
    "Aggregate Duplicate Values"
   ]
  },
  {
   "cell_type": "code",
   "execution_count": null,
   "id": "337c2f83",
   "metadata": {},
   "outputs": [],
   "source": [
    "y_value = df['y']\n",
    "df = df.groupby('ds', as_index=False)['y'].sum()"
   ]
  },
  {
   "cell_type": "code",
   "execution_count": null,
   "id": "28bd77ed",
   "metadata": {},
   "outputs": [],
   "source": [
    "df.head()\n",
    "df.info()"
   ]
  },
  {
   "cell_type": "markdown",
   "id": "028ba947",
   "metadata": {},
   "source": [
    "Edit Date and Hours Entry"
   ]
  },
  {
   "cell_type": "code",
   "execution_count": null,
   "id": "00f22e8d",
   "metadata": {},
   "outputs": [],
   "source": [
    "full_range = pd.date_range(start='2024-01-01 00:00', end='2024-12-31 23:00', freq='H')\n",
    "df = df.set_index('ds').reindex(full_range).fillna(0).rename_axis('ds').reset_index()"
   ]
  },
  {
   "cell_type": "code",
   "execution_count": null,
   "id": "f38bf395",
   "metadata": {},
   "outputs": [],
   "source": [
    "df_len = len(df)\n",
    "y_value = y_value.drop(index=range(df_len, len(y_value)))"
   ]
  },
  {
   "cell_type": "code",
   "execution_count": null,
   "id": "6f8b87d3",
   "metadata": {},
   "outputs": [],
   "source": [
    "df['y'] = y_value # pass the value"
   ]
  },
  {
   "cell_type": "code",
   "execution_count": null,
   "id": "375ac4cb",
   "metadata": {},
   "outputs": [],
   "source": [
    "df.loc[df.duplicated() == True, 'ds'] # check for duplicate entry\n",
    "(df.loc[df.duplicated() == True, 'ds']).count() # count = 0 no duplicates"
   ]
  },
  {
   "cell_type": "markdown",
   "id": "6461b1bb",
   "metadata": {},
   "source": [
    "Save as CSV file"
   ]
  },
  {
   "cell_type": "code",
   "execution_count": null,
   "id": "37bd86e2",
   "metadata": {},
   "outputs": [],
   "source": [
    "df.to_csv('../data/processed/vehicle-data-feed-prophet-model.csv', index=False)"
   ]
  }
 ],
 "metadata": {
  "kernelspec": {
   "display_name": ".venv (3.13.3)",
   "language": "python",
   "name": "python3"
  },
  "language_info": {
   "codemirror_mode": {
    "name": "ipython",
    "version": 3
   },
   "file_extension": ".py",
   "mimetype": "text/x-python",
   "name": "python",
   "nbconvert_exporter": "python",
   "pygments_lexer": "ipython3",
   "version": "3.13.3"
  }
 },
 "nbformat": 4,
 "nbformat_minor": 5
}
